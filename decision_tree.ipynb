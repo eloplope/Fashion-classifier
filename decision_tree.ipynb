{
 "cells": [
  {
   "cell_type": "code",
   "execution_count": 1,
   "metadata": {},
   "outputs": [],
   "source": [
    "import numpy as np\n",
    "import pandas as pd"
   ]
  },
  {
   "cell_type": "code",
   "execution_count": 2,
   "metadata": {},
   "outputs": [],
   "source": [
    "training_data = np.load(f'../fashion_train.npy')\n",
    "test_data = np.load(f'../fashion_test.npy')"
   ]
  },
  {
   "cell_type": "code",
   "execution_count": 3,
   "metadata": {},
   "outputs": [
    {
     "data": {
      "text/html": [
       "<div>\n",
       "<style scoped>\n",
       "    .dataframe tbody tr th:only-of-type {\n",
       "        vertical-align: middle;\n",
       "    }\n",
       "\n",
       "    .dataframe tbody tr th {\n",
       "        vertical-align: top;\n",
       "    }\n",
       "\n",
       "    .dataframe thead th {\n",
       "        text-align: right;\n",
       "    }\n",
       "</style>\n",
       "<table border=\"1\" class=\"dataframe\">\n",
       "  <thead>\n",
       "    <tr style=\"text-align: right;\">\n",
       "      <th></th>\n",
       "      <th>0</th>\n",
       "      <th>1</th>\n",
       "      <th>2</th>\n",
       "      <th>3</th>\n",
       "      <th>4</th>\n",
       "      <th>5</th>\n",
       "      <th>6</th>\n",
       "      <th>7</th>\n",
       "      <th>8</th>\n",
       "      <th>9</th>\n",
       "      <th>...</th>\n",
       "      <th>775</th>\n",
       "      <th>776</th>\n",
       "      <th>777</th>\n",
       "      <th>778</th>\n",
       "      <th>779</th>\n",
       "      <th>780</th>\n",
       "      <th>781</th>\n",
       "      <th>782</th>\n",
       "      <th>783</th>\n",
       "      <th>784</th>\n",
       "    </tr>\n",
       "  </thead>\n",
       "  <tbody>\n",
       "    <tr>\n",
       "      <th>0</th>\n",
       "      <td>0</td>\n",
       "      <td>0</td>\n",
       "      <td>0</td>\n",
       "      <td>0</td>\n",
       "      <td>0</td>\n",
       "      <td>3</td>\n",
       "      <td>0</td>\n",
       "      <td>0</td>\n",
       "      <td>0</td>\n",
       "      <td>41</td>\n",
       "      <td>...</td>\n",
       "      <td>63</td>\n",
       "      <td>78</td>\n",
       "      <td>11</td>\n",
       "      <td>0</td>\n",
       "      <td>2</td>\n",
       "      <td>0</td>\n",
       "      <td>0</td>\n",
       "      <td>0</td>\n",
       "      <td>0</td>\n",
       "      <td>0</td>\n",
       "    </tr>\n",
       "    <tr>\n",
       "      <th>1</th>\n",
       "      <td>0</td>\n",
       "      <td>0</td>\n",
       "      <td>0</td>\n",
       "      <td>0</td>\n",
       "      <td>0</td>\n",
       "      <td>0</td>\n",
       "      <td>0</td>\n",
       "      <td>0</td>\n",
       "      <td>0</td>\n",
       "      <td>0</td>\n",
       "      <td>...</td>\n",
       "      <td>32</td>\n",
       "      <td>0</td>\n",
       "      <td>0</td>\n",
       "      <td>0</td>\n",
       "      <td>0</td>\n",
       "      <td>0</td>\n",
       "      <td>0</td>\n",
       "      <td>0</td>\n",
       "      <td>0</td>\n",
       "      <td>1</td>\n",
       "    </tr>\n",
       "    <tr>\n",
       "      <th>2</th>\n",
       "      <td>0</td>\n",
       "      <td>0</td>\n",
       "      <td>0</td>\n",
       "      <td>0</td>\n",
       "      <td>0</td>\n",
       "      <td>1</td>\n",
       "      <td>1</td>\n",
       "      <td>0</td>\n",
       "      <td>0</td>\n",
       "      <td>0</td>\n",
       "      <td>...</td>\n",
       "      <td>168</td>\n",
       "      <td>119</td>\n",
       "      <td>0</td>\n",
       "      <td>0</td>\n",
       "      <td>0</td>\n",
       "      <td>0</td>\n",
       "      <td>0</td>\n",
       "      <td>0</td>\n",
       "      <td>0</td>\n",
       "      <td>0</td>\n",
       "    </tr>\n",
       "    <tr>\n",
       "      <th>5</th>\n",
       "      <td>0</td>\n",
       "      <td>0</td>\n",
       "      <td>0</td>\n",
       "      <td>0</td>\n",
       "      <td>0</td>\n",
       "      <td>0</td>\n",
       "      <td>0</td>\n",
       "      <td>0</td>\n",
       "      <td>0</td>\n",
       "      <td>14</td>\n",
       "      <td>...</td>\n",
       "      <td>1</td>\n",
       "      <td>0</td>\n",
       "      <td>0</td>\n",
       "      <td>0</td>\n",
       "      <td>0</td>\n",
       "      <td>0</td>\n",
       "      <td>0</td>\n",
       "      <td>0</td>\n",
       "      <td>0</td>\n",
       "      <td>1</td>\n",
       "    </tr>\n",
       "    <tr>\n",
       "      <th>9</th>\n",
       "      <td>0</td>\n",
       "      <td>0</td>\n",
       "      <td>0</td>\n",
       "      <td>0</td>\n",
       "      <td>0</td>\n",
       "      <td>0</td>\n",
       "      <td>0</td>\n",
       "      <td>0</td>\n",
       "      <td>0</td>\n",
       "      <td>26</td>\n",
       "      <td>...</td>\n",
       "      <td>0</td>\n",
       "      <td>0</td>\n",
       "      <td>0</td>\n",
       "      <td>0</td>\n",
       "      <td>0</td>\n",
       "      <td>0</td>\n",
       "      <td>0</td>\n",
       "      <td>0</td>\n",
       "      <td>0</td>\n",
       "      <td>1</td>\n",
       "    </tr>\n",
       "  </tbody>\n",
       "</table>\n",
       "<p>5 rows × 785 columns</p>\n",
       "</div>"
      ],
      "text/plain": [
       "   0    1    2    3    4    5    6    7    8    9    ...  775  776  777  778  \\\n",
       "0    0    0    0    0    0    3    0    0    0   41  ...   63   78   11    0   \n",
       "1    0    0    0    0    0    0    0    0    0    0  ...   32    0    0    0   \n",
       "2    0    0    0    0    0    1    1    0    0    0  ...  168  119    0    0   \n",
       "5    0    0    0    0    0    0    0    0    0   14  ...    1    0    0    0   \n",
       "9    0    0    0    0    0    0    0    0    0   26  ...    0    0    0    0   \n",
       "\n",
       "   779  780  781  782  783  784  \n",
       "0    2    0    0    0    0    0  \n",
       "1    0    0    0    0    0    1  \n",
       "2    0    0    0    0    0    0  \n",
       "5    0    0    0    0    0    1  \n",
       "9    0    0    0    0    0    1  \n",
       "\n",
       "[5 rows x 785 columns]"
      ]
     },
     "execution_count": 3,
     "metadata": {},
     "output_type": "execute_result"
    }
   ],
   "source": [
    "df = pd.DataFrame(training_data)\n",
    "\n",
    "\n",
    "df_2classes = df[df.iloc[:, -1] < 2]\n",
    "df_2classes.head()"
   ]
  },
  {
   "cell_type": "markdown",
   "metadata": {},
   "source": [
    "### Create subset for fast testing"
   ]
  },
  {
   "cell_type": "code",
   "execution_count": 19,
   "metadata": {},
   "outputs": [
    {
     "data": {
      "text/plain": [
       "(119, 785)"
      ]
     },
     "execution_count": 19,
     "metadata": {},
     "output_type": "execute_result"
    }
   ],
   "source": [
    "df_2classes_subset = df_2classes.sample(frac=0.03, random_state=1)\n",
    "df_2classes_subset.shape"
   ]
  },
  {
   "cell_type": "markdown",
   "metadata": {},
   "source": [
    "### Decision tree (Needs water)"
   ]
  },
  {
   "cell_type": "code",
   "execution_count": 14,
   "metadata": {},
   "outputs": [],
   "source": [
    "def decision_tree(data):\n",
    "    pass\n",
    "\n",
    "\n",
    "def split_data(data):\n",
    "    current_min = 2\n",
    "    n = len(data)\n",
    "    for column in data.columns[:-1]:\n",
    "        for value in data[column].unique():\n",
    "            split1 = data[data[column] >= value]\n",
    "            split2 = data[data[column] < value]\n",
    "            gini1 = gini_impurity(split1)\n",
    "            gini2 = gini_impurity(split2)\n",
    "            total = (gini1 * len(split1) + gini2 * len(split2)) / n\n",
    "            if total < current_min:\n",
    "                current_min = total\n",
    "                min_gini = [current_min, column, value]\n",
    "    \n",
    "    return min_gini\n",
    "\n",
    "\n",
    "\n",
    "def gini_impurity(data):\n",
    "    class_counts = np.unique(data.iloc[:, -1], return_counts=True)[1]\n",
    "    probabilities = class_counts / len(data)\n",
    "    gini = 1 - np.sum(probabilities ** 2)\n",
    "    return gini\n",
    "\n",
    "\n",
    "\n",
    "def train_model(data):\n",
    "    pass\n",
    "\n",
    "\n",
    "def predict(data):\n",
    "    pass\n",
    "\n"
   ]
  },
  {
   "cell_type": "code",
   "execution_count": 9,
   "metadata": {},
   "outputs": [
    {
     "data": {
      "text/plain": [
       "[(0.09058538669705166, 546, 22)]"
      ]
     },
     "execution_count": 9,
     "metadata": {},
     "output_type": "execute_result"
    }
   ],
   "source": [
    "split_data(df_2classes_subset)"
   ]
  },
  {
   "cell_type": "code",
   "execution_count": null,
   "metadata": {},
   "outputs": [],
   "source": [
    "def decision_tree(data):\n",
    "    pass\n",
    "\n",
    "\n",
    "def split_data(data):\n",
    "    current_min = 2\n",
    "    n = len(data)\n",
    "    for column in data.columns[:-1]:\n",
    "        for value in data[column].unique():\n",
    "            split1 = data[data[column] >= value]\n",
    "            split2 = data[data[column] < value]\n",
    "            gini1 = gini_impurity(split1)\n",
    "            gini2 = gini_impurity(split2)\n",
    "            total = (gini1 * len(split1) + gini2 * len(split2)) / n\n",
    "            if total < current_min:\n",
    "                current_min = total\n",
    "                min_gini = [current_min, column, value]\n",
    "    \n",
    "    return min_gini\n",
    "\n",
    "\n",
    "\n",
    "def gini_impurity(data):\n",
    "    class_counts = np.unique(data.iloc[:, -1], return_counts=True)[1]\n",
    "    probabilities = class_counts / len(data)\n",
    "    gini = 1 - np.sum(probabilities ** 2)\n",
    "    return gini\n",
    "\n",
    "\n",
    "\n",
    "def train_model(data,max_depth):\n",
    "    voresdict=dict()\n",
    "\n",
    "    # for layer in range(1, max_depth + 1):\n",
    "    #         current_width = 2 ** (layer - 1) \n",
    "    #         nodesinlayer=[]\n",
    "    #         for n in range(1,current_width+1):\n",
    "    #             nodesinlayer.append(n)\n",
    "    #         print(nodesinlayer)\n",
    "\n",
    "    for layer in range(1, max_depth + 1):\n",
    "        current_width = 2 ** (layer - 1) \n",
    "        nodesinlayer=[]\n",
    "        for n in range(1,current_width+1):\n",
    "            nodesinlayer.append(n)\n",
    "        print(nodesinlayer)\n",
    "    \n",
    "                \n",
    "           \n",
    "\n",
    "\n",
    "\n",
    "\n",
    "\n",
    "\n",
    "\n",
    "    \n",
    "\n",
    "\n",
    "def predict(data):\n",
    "    pass\n",
    "\n"
   ]
  },
  {
   "cell_type": "code",
   "execution_count": 66,
   "metadata": {},
   "outputs": [
    {
     "name": "stdout",
     "output_type": "stream",
     "text": [
      "[1]\n",
      "[1, 2]\n",
      "[1, 2, 3, 4]\n",
      "[1, 2, 3, 4, 5, 6, 7, 8]\n",
      "[1, 2, 3, 4, 5, 6, 7, 8, 9, 10, 11, 12, 13, 14, 15, 16]\n"
     ]
    }
   ],
   "source": [
    "train_model(df_2classes_subset,5)"
   ]
  },
  {
   "attachments": {
    "image.png": {
     "image/png": "[encoded data removed]"
    }
   },
   "cell_type": "markdown",
   "metadata": {},
   "source": [
    "naming scheme\n",
    "![image.png](attachment:image.png)"
   ]
  },
  {
   "cell_type": "code",
   "execution_count": 80,
   "metadata": {},
   "outputs": [
    {
     "name": "stdout",
     "output_type": "stream",
     "text": [
      "{'1': 1, '10': 2, '100': 3, '101': 4, '11': 5, '110': 6, '111': 7}\n"
     ]
    }
   ],
   "source": [
    "def incrementer(counter=[0]):\n",
    "    counter[0] += 1\n",
    "    return counter[0]\n",
    "\n",
    "def generate_tree_names(node_name, depth, tree_dict=None):\n",
    "    if tree_dict is None:\n",
    "        tree_dict = {}\n",
    "    \n",
    "    # Add the current node to the dictionary\n",
    "    tree_dict[node_name] = incrementer()  # You can add values or other data here as needed\n",
    "    \n",
    "    # Base case: stop if we've reached the desired depth\n",
    "    if depth > 0:\n",
    "        # Recur for left child (appending '0') and right child (appending '1')\n",
    "        generate_tree_names(node_name + '0', depth - 1, tree_dict)\n",
    "        generate_tree_names(node_name + '1', depth - 1, tree_dict)\n",
    "    \n",
    "    return tree_dict\n",
    "\n",
    "# Example usage: Generate a binary tree with 3 levels starting from node '1'\n",
    "binary_tree_dict = generate_tree_names('1', 2)\n",
    "print(binary_tree_dict)\n"
   ]
  },
  {
   "cell_type": "code",
   "execution_count": null,
   "metadata": {},
   "outputs": [],
   "source": []
  }
 ],
 "metadata": {
  "kernelspec": {
   "display_name": "base",
   "language": "python",
   "name": "python3"
  },
  "language_info": {
   "codemirror_mode": {
    "name": "ipython",
    "version": 3
   },
   "file_extension": ".py",
   "mimetype": "text/x-python",
   "name": "python",
   "nbconvert_exporter": "python",
   "pygments_lexer": "ipython3",
   "version": "3.8.18"
  }
 },
 "nbformat": 4,
 "nbformat_minor": 2
}
