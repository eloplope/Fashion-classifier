{
 "cells": [
  {
   "cell_type": "code",
   "execution_count": 1,
   "metadata": {},
   "outputs": [],
   "source": [
    "import numpy as np"
   ]
  },
  {
   "cell_type": "code",
   "execution_count": 2,
   "metadata": {},
   "outputs": [
    {
     "data": {
      "text/plain": [
       "array([0, 1, 2, 3, 4], dtype=uint8)"
      ]
     },
     "execution_count": 2,
     "metadata": {},
     "output_type": "execute_result"
    }
   ],
   "source": [
    "training_data = np.load(f'../fashion_train.npy')\n",
    "test_data = np.load(f'../fashion_test.npy')\n",
    "\n",
    "np.unique(training_data[:,-1])"
   ]
  },
  {
   "cell_type": "code",
   "execution_count": 39,
   "metadata": {},
   "outputs": [
    {
     "name": "stderr",
     "output_type": "stream",
     "text": [
      "C:\\Users\\krist\\AppData\\Local\\Temp\\ipykernel_37120\\2299662063.py:2: RuntimeWarning: overflow encountered in exp\n",
      "  return 1 / (1 + np.exp(-x))\n"
     ]
    },
    {
     "data": {
      "text/plain": [
       "array([[9.99999999e-01, 9.09707806e-01, 1.56422036e-07, 6.09490570e-11,\n",
       "        1.00000000e+00],\n",
       "       [9.99999965e-01, 4.72617150e-12, 7.51891777e-07, 3.89294956e-02,\n",
       "        1.00000000e+00],\n",
       "       [1.00000000e+00, 9.93720395e-01, 2.16356482e-09, 3.62958780e-05,\n",
       "        1.00000000e+00],\n",
       "       ...,\n",
       "       [9.99992783e-01, 6.34589593e-08, 1.04512838e-10, 1.27716690e-06,\n",
       "        1.00000000e+00],\n",
       "       [9.99999997e-01, 9.99129648e-01, 7.69095624e-09, 1.50990375e-01,\n",
       "        1.00000000e+00],\n",
       "       [1.00000000e+00, 7.11705530e-10, 3.73481667e-13, 2.38260334e-10,\n",
       "        1.00000000e+00]])"
      ]
     },
     "execution_count": 39,
     "metadata": {},
     "output_type": "execute_result"
    }
   ],
   "source": [
    "def sigmoid(x):\n",
    "  return 1 / (1 + np.exp(-x))\n",
    "\n",
    "def feedforward(data, num_hidden_layers, learning_rate, epochs):\n",
    "    num_samples, num_features = data.shape[0], data.shape[1]-1\n",
    "    input_layer_size = num_features\n",
    "    hidden_layer_size = num_features\n",
    "\n",
    "    input_layer_weights = np.random.randn(input_layer_size, hidden_layer_size)\n",
    "    input_layer_bias = np.zeros((1, input_layer_size))\n",
    "\n",
    "    hidden_layer_weights = {f'n{i}': np.random.randn(hidden_layer_size, hidden_layer_size) for i in range(num_hidden_layers)}\n",
    "    hidden_layer_bias = {f'n{i}': np.zeros((1, hidden_layer_size)) for i in range(num_hidden_layers)}\n",
    "\n",
    "    output_layer_size = len(np.unique(data[:,-1]))\n",
    "    output_layer_weights = np.random.randn(hidden_layer_size, output_layer_size)\n",
    "    output_layer_bias = np.zeros((1, output_layer_size))\n",
    "\n",
    "\n",
    "    hidden_layer_inputs = {}\n",
    "    hidden_layer_outputs = {}\n",
    "\n",
    "    for i in range(num_hidden_layers):\n",
    "        if i == 0:\n",
    "            hidden_layer_inputs = {f'n{i}': np.dot(data[:,:-1], input_layer_weights) + input_layer_bias}\n",
    "        else:\n",
    "            hidden_layer_inputs = {f'n{i}': np.dot(hidden_layer_inputs[f'n{i-1}'], hidden_layer_weights[f'n{i-1}']) + hidden_layer_bias[f'n{i-1}']}\n",
    "\n",
    "        hidden_layer_outputs = {f'n{i}': sigmoid(hidden_layer_inputs[f'n{i}'])}\n",
    "\n",
    "    output_layer_input = np.dot(hidden_layer_outputs[f'n{num_hidden_layers-1}'], output_layer_weights) + output_layer_bias\n",
    "\n",
    "    output_layer_output = sigmoid(output_layer_input)\n",
    "\n",
    "    return output_layer_output\n",
    "\n",
    "\n",
    "feedforward(training_data, 4, 0.001,100)"
   ]
  },
  {
   "cell_type": "code",
   "execution_count": 42,
   "metadata": {},
   "outputs": [
    {
     "name": "stderr",
     "output_type": "stream",
     "text": [
      "C:\\Users\\krist\\AppData\\Local\\Temp\\ipykernel_37120\\2299662063.py:2: RuntimeWarning: overflow encountered in exp\n",
      "  return 1 / (1 + np.exp(-x))\n"
     ]
    },
    {
     "data": {
      "text/plain": [
       "4.254511987211752"
      ]
     },
     "execution_count": 42,
     "metadata": {},
     "output_type": "execute_result"
    }
   ],
   "source": [
    "def cost_function(y_pred, y):\n",
    "    return np.mean([(y_i - y_pred_i)**2 for y_i, y_pred_i in zip(y, y_pred)])\n",
    "\n",
    "def predict(beta_0, beta_1, x):\n",
    "    return [beta_0 + beta_1 * x_i for x_i in x]\n",
    "\n",
    "\n",
    "def backpropagation(data, num_hidden_layers, learning_rate, epochs):\n",
    "    \n",
    "    ff = feedforward(data, num_hidden_layers, learning_rate, epochs)\n",
    "    loss = cost_function(ff, data[:,-1])\n",
    "\n",
    "    return loss\n",
    "\n",
    "\n",
    "backpropagation(training_data, 4, 0.001,100)"
   ]
  },
  {
   "cell_type": "code",
   "execution_count": null,
   "metadata": {},
   "outputs": [],
   "source": []
  }
 ],
 "metadata": {
  "kernelspec": {
   "display_name": "base",
   "language": "python",
   "name": "python3"
  },
  "language_info": {
   "codemirror_mode": {
    "name": "ipython",
    "version": 3
   },
   "file_extension": ".py",
   "mimetype": "text/x-python",
   "name": "python",
   "nbconvert_exporter": "python",
   "pygments_lexer": "ipython3",
   "version": "3.11.4"
  }
 },
 "nbformat": 4,
 "nbformat_minor": 2
}
