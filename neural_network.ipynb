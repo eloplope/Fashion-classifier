{
 "cells": [
  {
   "cell_type": "code",
   "execution_count": 1,
   "metadata": {},
   "outputs": [],
   "source": [
    "import numpy as np\n",
    "from sklearn.metrics import ConfusionMatrixDisplay\n",
    "import matplotlib.pyplot as plt"
   ]
  },
  {
   "cell_type": "code",
   "execution_count": 2,
   "metadata": {},
   "outputs": [],
   "source": [
    "training_data = np.load(f'../fashion_train.npy')\n",
    "test_data = np.load(f'../fashion_test.npy')\n",
    "\n",
    "labels = training_data[:, -1]\n",
    "training_data = training_data[:,:-1] / 255 # Normalise pixel values\n",
    "training_data = np.c_[training_data, labels] # Add labels back\n",
    "\n",
    "labels = test_data[:, -1]\n",
    "test_data = test_data[:,:-1] / 255 # Normalise pixel values\n",
    "test_data = np.c_[test_data, labels] # Add labels back"
   ]
  },
  {
   "cell_type": "code",
   "execution_count": 3,
   "metadata": {},
   "outputs": [],
   "source": [
    "# Helper functions\n",
    "def MSE(y_pred, y):\n",
    "    return 2 * np.mean([(y_i - y_pred_i)**2 for y_i, y_pred_i in zip(y, y_pred)])\n",
    "\n",
    "def MSE_derivative(y_pred, y):\n",
    "    return [(y_i - y_pred_i) for y_i, y_pred_i in zip(y, y_pred)]\n",
    "\n",
    "def CrossEntropy(y_pred, y):\n",
    "    epsilon = 1e-15\n",
    "    y_pred = np.clip(y_pred, epsilon, 1 - epsilon)\n",
    "    return -np.mean(np.sum(y * np.log(y_pred), axis=1))\n",
    "\n",
    "def CrossEntropy_derivative(y_pred, y):\n",
    "    epsilon = 1e-15\n",
    "    y_pred = np.clip(y_pred, epsilon, 1 - epsilon)\n",
    "    return (y_pred - y) / y.shape[0]\n",
    "\n",
    "def sigmoid(x):\n",
    "  return 1 / (1 + np.exp(-x))\n",
    "\n",
    "def sigmoid_derivative(x):\n",
    "    s = sigmoid(x)\n",
    "    return s * (1 - s)\n",
    "\n",
    "def reLU(x):\n",
    "    return np.maximum(0, x)\n",
    "\n",
    "def reLU_derivative(x):\n",
    "    return np.where(x > 0, 1, 0)\n",
    "\n",
    "def leaky_reLU(x):\n",
    "    return np.maximum(0.01 * x, x)\n",
    "\n",
    "def leaky_reLU_derivative(x):\n",
    "    return np.where(x > 0, 1, 0.01)\n",
    "\n",
    "def ELU(x):\n",
    "    return np.maximum(0.01 * (np.exp(x)-1), x)\n",
    "\n",
    "def ELU_derivative(x):\n",
    "    return np.where(x > 0, 1, 0.01* np.exp(x))\n",
    "\n",
    "def softmax(x):\n",
    "    exp_values = np.exp(x - np.max(x, axis=1, keepdims=True))\n",
    "    probabilities = exp_values / np.sum(exp_values, axis=1, keepdims=True)\n",
    "    return probabilities\n",
    "\n",
    "def xavier_initialization(input_size, output_size):\n",
    "    return np.random.randn(input_size, output_size) * np.sqrt(1 / input_size)\n",
    "\n",
    "def he_initialization(input_size, output_size):\n",
    "    return np.random.randn(input_size, output_size) * np.sqrt(2 / input_size)\n"
   ]
  },
  {
   "cell_type": "code",
   "execution_count": 4,
   "metadata": {},
   "outputs": [],
   "source": [
    "def forward_pass(data, weights, biases, num_hidden_layers, activation_function):\n",
    "    inputs, outputs = [], []\n",
    "    current_input = data\n",
    "\n",
    "    z = np.dot(current_input, weights[\"input\"]) + biases[\"input\"]\n",
    "    inputs.append(z)\n",
    "    current_input = activation_function(z)\n",
    "    outputs.append(current_input)\n",
    "\n",
    "    for i in range(num_hidden_layers):\n",
    "        z = np.dot(current_input, weights[\"hidden\"][i]) + biases[\"hidden\"][i]\n",
    "        inputs.append(z)\n",
    "        current_input = activation_function(z)\n",
    "        outputs.append(current_input)\n",
    "\n",
    "    z = np.dot(current_input, weights[\"output\"]) + biases[\"output\"]\n",
    "    inputs.append(z)\n",
    "    current_input = softmax(z)\n",
    "    outputs.append(current_input)\n",
    "\n",
    "    return inputs, outputs\n",
    "\n",
    "def backward_pass(data, labels, weights, biases, inputs, outputs, activation_function_derivative, cost_derivative, learning_rate):\n",
    "    # Calculate delta for output layer\n",
    "    delta = cost_derivative(outputs[-1], labels) * activation_function_derivative(inputs[-1])\n",
    "    \n",
    "    # Gradients for output layer\n",
    "    gradient_weights_output = np.dot(outputs[-2].T, delta)  # Last hidden layer's output\n",
    "    gradient_biases_output = np.sum(delta, axis=0, keepdims=True)\n",
    "\n",
    "    # Update output layer weights and biases\n",
    "    weights[\"output\"] -= learning_rate * gradient_weights_output\n",
    "    biases[\"output\"] -= learning_rate * gradient_biases_output\n",
    "\n",
    "    num_hidden_layers = len(weights[\"hidden\"])\n",
    "    # Gradients for hidden layers\n",
    "    for i in range(num_hidden_layers-1, -1, -1):\n",
    "        if i == len(weights[\"hidden\"])-1:\n",
    "            delta = np.dot(delta, weights[\"output\"].T) * activation_function_derivative(inputs[-2])\n",
    "        else:\n",
    "            delta = np.dot(delta, weights[\"hidden\"][i+1].T) * activation_function_derivative(inputs[-2 +  i - num_hidden_layers])\n",
    "\n",
    "        gradient_weights_hidden = np.dot(outputs[-2 +  i - num_hidden_layers].T, delta)\n",
    "        gradient_biases_hidden = np.sum(delta, axis=0, keepdims=True)\n",
    "        # Update hidden layer weights and biases\n",
    "        weights[\"hidden\"][i] -= learning_rate * gradient_weights_hidden\n",
    "        biases[\"hidden\"][i] -= learning_rate * gradient_biases_hidden\n",
    "\n",
    "    delta = np.dot(delta, weights[\"hidden\"][0].T) * activation_function_derivative(inputs[0])\n",
    "    gradient_weights_input = np.dot(data.T, delta)\n",
    "    gradient_biases_input = np.sum(delta, axis=0, keepdims=True)\n",
    "\n",
    "    # Update input layer weights and biases\n",
    "    weights[\"input\"] -= learning_rate * gradient_weights_input\n",
    "    biases[\"input\"] -= learning_rate * gradient_biases_input\n",
    "\n",
    "    return weights, biases"
   ]
  },
  {
   "cell_type": "code",
   "execution_count": 6,
   "metadata": {},
   "outputs": [],
   "source": [
    "def feedforward(data, num_hidden_layers, learning_rate, epochs, activation_function):\n",
    "    np.random.seed(42)\n",
    "\n",
    "    if activation_function == 'sigmoid':\n",
    "        initialization = xavier_initialization\n",
    "        activation_function_ = sigmoid\n",
    "        activation_function_derivative_ = sigmoid_derivative\n",
    "        cost_function_ = MSE\n",
    "        cost_derivative_ = MSE_derivative\n",
    "    elif activation_function == 'relu':\n",
    "        initialization = he_initialization\n",
    "        activation_function_ = reLU\n",
    "        activation_function_derivative_ = reLU_derivative\n",
    "        cost_function_ = CrossEntropy\n",
    "        cost_derivative_ = CrossEntropy_derivative\n",
    "    elif activation_function == 'leaky_relu':\n",
    "        initialization = he_initialization\n",
    "        activation_function_ = leaky_reLU\n",
    "        activation_function_derivative_ = leaky_reLU_derivative\n",
    "        cost_function_ = CrossEntropy\n",
    "        cost_derivative_ = CrossEntropy_derivative\n",
    "    elif activation_function == 'ELU':\n",
    "        initialization = he_initialization\n",
    "        activation_function_ = ELU\n",
    "        activation_function_derivative_ = ELU_derivative\n",
    "        cost_function_ = CrossEntropy\n",
    "        cost_derivative_ = CrossEntropy_derivative\n",
    "    else:\n",
    "        raise ValueError(\"Invalid activation function. Choose 'sigmoid', 'leaky_relu', 'ELU' or 'relu'.\")\n",
    "        \n",
    "    # Weight initialization\n",
    "    num_samples, num_features = data.shape[0], data.shape[1]-1\n",
    "    input_layer_size = num_features\n",
    "    hidden_layer_size = 16\n",
    "\n",
    "    output_layer_size = len(np.unique(data[:,-1]))\n",
    "\n",
    "    weights = {\n",
    "        \"input\": initialization(input_layer_size, hidden_layer_size),\n",
    "        \"hidden\": np.array([initialization(hidden_layer_size, hidden_layer_size) for _ in range(num_hidden_layers)]),\n",
    "        \"output\": initialization(hidden_layer_size, output_layer_size)\n",
    "    }\n",
    "    biases = {\n",
    "        \"input\": np.zeros((1, hidden_layer_size)),\n",
    "        \"hidden\": [np.zeros((1, hidden_layer_size)) for _ in range(num_hidden_layers)],\n",
    "        \"output\": np.zeros((1, output_layer_size))\n",
    "    }\n",
    "\n",
    "    # -------------------------------------------------------------------------------------------------------------\n",
    "\n",
    "    labels = data[:, -1]\n",
    "    data_no_labels = data[:, :-1]\n",
    "    num_classes = len(np.unique(labels))\n",
    "    classes = np.eye(num_classes)[labels.astype(int)]\n",
    "\n",
    "    input, output = forward_pass(data_no_labels, weights, biases, num_hidden_layers,activation_function_)\n",
    "\n",
    "    for epoch in range(epochs):\n",
    "        weights, biases = backward_pass(data_no_labels, classes, weights, biases, input, output, activation_function_derivative_, cost_derivative_, learning_rate)\n",
    "\n",
    "        input, output = forward_pass(data_no_labels, weights, biases, num_hidden_layers, activation_function_)\n",
    "\n",
    "        if epoch % 10 == 0:\n",
    "            cost = cost_function_(output[-1], classes)\n",
    "            print(f\"Epoch: {epoch}, Cost: {cost}\")\n",
    "    return weights, biases, num_hidden_layers, activation_function_"
   ]
  },
  {
   "cell_type": "code",
   "execution_count": 7,
   "metadata": {},
   "outputs": [],
   "source": [
    "def predict(data, weights, biases, num_hidden_layers, activation_function):\n",
    "    data_labels = data[:, -1].astype(int)\n",
    "    data_no_labels = data[:, :-1]\n",
    "    inputs, outputs = forward_pass(data_no_labels, weights, biases, num_hidden_layers, activation_function)\n",
    "    pred = np.argmax(outputs[-1], axis=1).astype(int)\n",
    "    accuracy = (np.sum(pred == data_labels) / len(data_labels)) * 100\n",
    "    num_classes = len(np.unique(data_labels))\n",
    "    confusion_matrix = np.zeros((num_classes, num_classes),dtype=int)\n",
    "    for i in range(len(data_labels)):\n",
    "        confusion_matrix[data_labels[i], pred[i]] += 1\n",
    "    \n",
    "    misclassification_rate = []\n",
    "    for i in range(num_classes):\n",
    "        total_row = np.sum(confusion_matrix[i,:])\n",
    "        error_rate = confusion_matrix[i,i] / total_row\n",
    "        misclassification_rate.append(error_rate)\n",
    "    print(misclassification_rate)\n",
    "    return accuracy, confusion_matrix"
   ]
  },
  {
   "cell_type": "code",
   "execution_count": 18,
   "metadata": {},
   "outputs": [
    {
     "name": "stdout",
     "output_type": "stream",
     "text": [
      "Epoch: 0, Cost: 1.7869268404926895\n",
      "Epoch: 10, Cost: 1.6312338444039276\n",
      "Epoch: 20, Cost: 1.6123941365790984\n",
      "Epoch: 30, Cost: 1.6058320008857812\n"
     ]
    },
    {
     "ename": "KeyboardInterrupt",
     "evalue": "",
     "output_type": "error",
     "traceback": [
      "\u001b[1;31m---------------------------------------------------------------------------\u001b[0m",
      "\u001b[1;31mKeyboardInterrupt\u001b[0m                         Traceback (most recent call last)",
      "Cell \u001b[1;32mIn[18], line 2\u001b[0m\n\u001b[0;32m      1\u001b[0m \u001b[38;5;66;03m# currently 10k with 2 hidden layers and leaky relu takes 14-16 minutes (with my pc)\u001b[39;00m\n\u001b[1;32m----> 2\u001b[0m weights, biases, num_hidden_layers, activation_function_ \u001b[38;5;241m=\u001b[39m feedforward(training_data, \u001b[38;5;241m2\u001b[39m, \u001b[38;5;241m0.01\u001b[39m, \u001b[38;5;241m1000\u001b[39m, \u001b[38;5;124m'\u001b[39m\u001b[38;5;124mrelu\u001b[39m\u001b[38;5;124m'\u001b[39m)\n",
      "Cell \u001b[1;32mIn[6], line 59\u001b[0m, in \u001b[0;36mfeedforward\u001b[1;34m(data, num_hidden_layers, learning_rate, epochs, activation_function)\u001b[0m\n\u001b[0;32m     56\u001b[0m \u001b[38;5;28minput\u001b[39m, output \u001b[38;5;241m=\u001b[39m forward_pass(data_no_labels, weights, biases, num_hidden_layers,activation_function_)\n\u001b[0;32m     58\u001b[0m \u001b[38;5;28;01mfor\u001b[39;00m epoch \u001b[38;5;129;01min\u001b[39;00m \u001b[38;5;28mrange\u001b[39m(epochs):\n\u001b[1;32m---> 59\u001b[0m     weights, biases \u001b[38;5;241m=\u001b[39m backward_pass(data_no_labels, classes, weights, biases, \u001b[38;5;28minput\u001b[39m, output, activation_function_derivative_, cost_derivative_, learning_rate)\n\u001b[0;32m     61\u001b[0m     \u001b[38;5;28minput\u001b[39m, output \u001b[38;5;241m=\u001b[39m forward_pass(data_no_labels, weights, biases, num_hidden_layers, activation_function_)\n\u001b[0;32m     63\u001b[0m     \u001b[38;5;28;01mif\u001b[39;00m epoch \u001b[38;5;241m%\u001b[39m \u001b[38;5;241m10\u001b[39m \u001b[38;5;241m==\u001b[39m \u001b[38;5;241m0\u001b[39m:\n",
      "Cell \u001b[1;32mIn[4], line 51\u001b[0m, in \u001b[0;36mbackward_pass\u001b[1;34m(data, labels, weights, biases, inputs, outputs, activation_function_derivative, cost_derivative, learning_rate)\u001b[0m\n\u001b[0;32m     49\u001b[0m delta \u001b[38;5;241m=\u001b[39m np\u001b[38;5;241m.\u001b[39mdot(delta, weights[\u001b[38;5;124m\"\u001b[39m\u001b[38;5;124mhidden\u001b[39m\u001b[38;5;124m\"\u001b[39m][\u001b[38;5;241m0\u001b[39m]\u001b[38;5;241m.\u001b[39mT) \u001b[38;5;241m*\u001b[39m activation_function_derivative(inputs[\u001b[38;5;241m0\u001b[39m])\n\u001b[0;32m     50\u001b[0m gradient_weights_input \u001b[38;5;241m=\u001b[39m np\u001b[38;5;241m.\u001b[39mdot(data\u001b[38;5;241m.\u001b[39mT, delta)\n\u001b[1;32m---> 51\u001b[0m gradient_biases_input \u001b[38;5;241m=\u001b[39m np\u001b[38;5;241m.\u001b[39msum(delta, axis\u001b[38;5;241m=\u001b[39m\u001b[38;5;241m0\u001b[39m, keepdims\u001b[38;5;241m=\u001b[39m\u001b[38;5;28;01mTrue\u001b[39;00m)\n\u001b[0;32m     53\u001b[0m \u001b[38;5;66;03m# Update input layer weights and biases\u001b[39;00m\n\u001b[0;32m     54\u001b[0m weights[\u001b[38;5;124m\"\u001b[39m\u001b[38;5;124minput\u001b[39m\u001b[38;5;124m\"\u001b[39m] \u001b[38;5;241m-\u001b[39m\u001b[38;5;241m=\u001b[39m learning_rate \u001b[38;5;241m*\u001b[39m gradient_weights_input\n",
      "File \u001b[1;32mc:\\Users\\krist\\anaconda3\\Lib\\site-packages\\numpy\\core\\fromnumeric.py:2313\u001b[0m, in \u001b[0;36msum\u001b[1;34m(a, axis, dtype, out, keepdims, initial, where)\u001b[0m\n\u001b[0;32m   2310\u001b[0m         \u001b[38;5;28;01mreturn\u001b[39;00m out\n\u001b[0;32m   2311\u001b[0m     \u001b[38;5;28;01mreturn\u001b[39;00m res\n\u001b[1;32m-> 2313\u001b[0m \u001b[38;5;28;01mreturn\u001b[39;00m _wrapreduction(a, np\u001b[38;5;241m.\u001b[39madd, \u001b[38;5;124m'\u001b[39m\u001b[38;5;124msum\u001b[39m\u001b[38;5;124m'\u001b[39m, axis, dtype, out, keepdims\u001b[38;5;241m=\u001b[39mkeepdims,\n\u001b[0;32m   2314\u001b[0m                       initial\u001b[38;5;241m=\u001b[39minitial, where\u001b[38;5;241m=\u001b[39mwhere)\n",
      "File \u001b[1;32mc:\\Users\\krist\\anaconda3\\Lib\\site-packages\\numpy\\core\\fromnumeric.py:88\u001b[0m, in \u001b[0;36m_wrapreduction\u001b[1;34m(obj, ufunc, method, axis, dtype, out, **kwargs)\u001b[0m\n\u001b[0;32m     85\u001b[0m         \u001b[38;5;28;01melse\u001b[39;00m:\n\u001b[0;32m     86\u001b[0m             \u001b[38;5;28;01mreturn\u001b[39;00m reduction(axis\u001b[38;5;241m=\u001b[39maxis, out\u001b[38;5;241m=\u001b[39mout, \u001b[38;5;241m*\u001b[39m\u001b[38;5;241m*\u001b[39mpasskwargs)\n\u001b[1;32m---> 88\u001b[0m \u001b[38;5;28;01mreturn\u001b[39;00m ufunc\u001b[38;5;241m.\u001b[39mreduce(obj, axis, dtype, out, \u001b[38;5;241m*\u001b[39m\u001b[38;5;241m*\u001b[39mpasskwargs)\n",
      "\u001b[1;31mKeyboardInterrupt\u001b[0m: "
     ]
    }
   ],
   "source": [
    "# currently 10k with 2 hidden layers and leaky relu takes 14-16 minutes (with my pc)\n",
    "weights, biases, num_hidden_layers, activation_function_ = feedforward(training_data, 2, 0.01, 1000, 'relu')"
   ]
  },
  {
   "cell_type": "code",
   "execution_count": null,
   "metadata": {},
   "outputs": [
    {
     "name": "stdout",
     "output_type": "stream",
     "text": [
      "[0.353, 0.0, 0.956, 0.0, 0.003]\n"
     ]
    },
    {
     "data": {
      "image/png": "[encoded data removed]",
      "text/plain": [
       "<Figure size 640x480 with 2 Axes>"
      ]
     },
     "metadata": {},
     "output_type": "display_data"
    },
    {
     "name": "stdout",
     "output_type": "stream",
     "text": [
      "Accuracy: 26.24%\n"
     ]
    }
   ],
   "source": [
    "accuracy, confusion_matrix = predict(test_data, weights, biases, num_hidden_layers, activation_function_)\n",
    "\n",
    "#Plot the confusion matrix\n",
    "disp = ConfusionMatrixDisplay(confusion_matrix=confusion_matrix, display_labels=np.arange(5))\n",
    "disp.plot(cmap=plt.cm.Blues, values_format='d')\n",
    "plt.title(\"Confusion Matrix\")\n",
    "plt.show()\n",
    "\n",
    "print(f\"Accuracy: {accuracy:.2f}%\")"
   ]
  }
 ],
 "metadata": {
  "kernelspec": {
   "display_name": "base",
   "language": "python",
   "name": "python3"
  },
  "language_info": {
   "codemirror_mode": {
    "name": "ipython",
    "version": 3
   },
   "file_extension": ".py",
   "mimetype": "text/x-python",
   "name": "python",
   "nbconvert_exporter": "python",
   "pygments_lexer": "ipython3",
   "version": "3.11.4"
  }
 },
 "nbformat": 4,
 "nbformat_minor": 2
}
