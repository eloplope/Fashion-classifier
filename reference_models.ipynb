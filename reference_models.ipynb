{
 "cells": [
  {
   "cell_type": "code",
   "execution_count": 1,
   "metadata": {},
   "outputs": [],
   "source": [
    "import numpy as np\n",
    "import pandas as pd\n",
    "from sklearn.tree import DecisionTreeClassifier\n",
    "from sklearn.neural_network import MLPClassifier\n",
    "from sklearn.neighbors import KNeighborsClassifier\n",
    "from sklearn.model_selection import GroupKFold, GridSearchCV, cross_val_predict\n",
    "from sklearn.metrics import accuracy_score, confusion_matrix"
   ]
  },
  {
   "cell_type": "code",
   "execution_count": 3,
   "metadata": {},
   "outputs": [],
   "source": [
    "training_data = np.load(f'../fashion_train.npy')\n",
    "test_data = np.load(f'../fashion_test.npy')"
   ]
  },
  {
   "cell_type": "code",
   "execution_count": 4,
   "metadata": {},
   "outputs": [],
   "source": [
    "df_train = pd.DataFrame(training_data)\n",
    "df_test = pd.DataFrame(test_data)"
   ]
  },
  {
   "cell_type": "code",
   "execution_count": 5,
   "metadata": {},
   "outputs": [],
   "source": [
    "X_train = df_train.iloc[:, :-1]  # All columns except the last one are features\n",
    "y_train = df_train.iloc[:, -1]   # The last column is the label\n",
    "\n",
    "X_test = df_test.iloc[:, :-1]  # All columns except the last one are features\n",
    "y_test = df_test.iloc[:, -1]   # The last column is the label"
   ]
  },
  {
   "cell_type": "code",
   "execution_count": 8,
   "metadata": {},
   "outputs": [],
   "source": [
    "\n",
    "\n",
    "clf_Tree = DecisionTreeClassifier(random_state=42)\n",
    "\n",
    "clf_Tree.fit(X_train,y_train)\n",
    "\n",
    "\n",
    "y_pred_best = clf_Tree.predict(X_test)"
   ]
  },
  {
   "cell_type": "code",
   "execution_count": 10,
   "metadata": {},
   "outputs": [
    {
     "name": "stdout",
     "output_type": "stream",
     "text": [
      "Best Decision Tree Accuracy: 0.7682\n",
      "Best Model Confusion Matrix:\n",
      "[[740   7  21  55 177]\n",
      " [ 15 933   5  33  14]\n",
      " [ 27   4 754  22 193]\n",
      " [ 48  31  19 825  77]\n",
      " [167  12 172  60 589]]\n"
     ]
    }
   ],
   "source": [
    "# Evaluate the best model\n",
    "accuracy_best = accuracy_score(y_test, y_pred_best)\n",
    "print(\"Best Decision Tree Accuracy:\", accuracy_best)\n",
    "\n",
    "# Compute confusion matrix for the best model\n",
    "cm_best = confusion_matrix(y_test, y_pred_best)\n",
    "print(\"Best Model Confusion Matrix:\")\n",
    "print(cm_best)"
   ]
  },
  {
   "cell_type": "code",
   "execution_count": 26,
   "metadata": {},
   "outputs": [],
   "source": [
    "clf_MLP = MLPClassifier(random_state=42)\n",
    "clf_MLP.fit(X_train, y_train);"
   ]
  },
  {
   "cell_type": "code",
   "execution_count": 10,
   "metadata": {},
   "outputs": [
    {
     "name": "stdout",
     "output_type": "stream",
     "text": [
      "Best Decision Tree Accuracy: 0.8216\n",
      "Best Model Confusion Matrix:\n",
      "[[822   3  46  32  97]\n",
      " [  5 949   6  32   8]\n",
      " [ 13   1 830  18 138]\n",
      " [ 41  14  31 862  52]\n",
      " [175   3 143  34 645]]\n"
     ]
    }
   ],
   "source": [
    "# Make predictions on the test set\n",
    "y_pred_best = clf_MLP.predict(X_test)\n",
    "\n",
    "# Evaluate the best model\n",
    "accuracy_best = accuracy_score(y_test, y_pred_best)\n",
    "print(\"Best Decision Tree Accuracy:\", accuracy_best)\n",
    "\n",
    "# Compute confusion matrix for the best model\n",
    "cm_best = confusion_matrix(y_test, y_pred_best)\n",
    "print(\"Best Model Confusion Matrix:\")\n",
    "print(cm_best)"
   ]
  },
  {
   "cell_type": "code",
   "execution_count": 27,
   "metadata": {},
   "outputs": [],
   "source": [
    "clf_Knn = KNeighborsClassifier(n_neighbors=10)\n",
    "clf_Knn.fit(X_train, y_train);"
   ]
  },
  {
   "cell_type": "code",
   "execution_count": 24,
   "metadata": {},
   "outputs": [
    {
     "name": "stdout",
     "output_type": "stream",
     "text": [
      "Best Decision Tree Accuracy: 0.825\n",
      "Best Model Confusion Matrix:\n",
      "[[857   2  25  22  94]\n",
      " [ 11 950  12  21   6]\n",
      " [ 15   1 866  14 104]\n",
      " [ 50   5  19 882  44]\n",
      " [203   0 194  33 570]]\n"
     ]
    }
   ],
   "source": [
    "# Make predictions on the test set\n",
    "y_pred_best = clf_Knn.predict(X_test)\n",
    "\n",
    "# Evaluate the best model\n",
    "accuracy_best = accuracy_score(y_test, y_pred_best)\n",
    "print(\"Best Decision Tree Accuracy:\", accuracy_best)\n",
    "\n",
    "# Compute confusion matrix for the best model\n",
    "cm_best = confusion_matrix(y_test, y_pred_best)\n",
    "print(\"Best Model Confusion Matrix:\")\n",
    "print(cm_best)"
   ]
  },
  {
   "cell_type": "code",
   "execution_count": null,
   "metadata": {},
   "outputs": [],
   "source": []
  }
 ],
 "metadata": {
  "kernelspec": {
   "display_name": "base",
   "language": "python",
   "name": "python3"
  },
  "language_info": {
   "codemirror_mode": {
    "name": "ipython",
    "version": 3
   },
   "file_extension": ".py",
   "mimetype": "text/x-python",
   "name": "python",
   "nbconvert_exporter": "python",
   "pygments_lexer": "ipython3",
   "version": "3.8.18"
  }
 },
 "nbformat": 4,
 "nbformat_minor": 2
}
